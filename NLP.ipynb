{
 "cells": [
  {
   "cell_type": "markdown",
   "metadata": {},
   "source": [
    "## Natural Language Processing Applications "
   ]
  },
  {
   "cell_type": "markdown",
   "metadata": {},
   "source": [
    "#### Importing numpy, pandas and matplotlib.pyplot. Loading the dataset into a data frame."
   ]
  },
  {
   "cell_type": "code",
   "execution_count": 1,
   "metadata": {},
   "outputs": [],
   "source": [
    "import numpy as np\n",
    "import pandas as pd\n",
    "import matplotlib.pyplot as plt"
   ]
  },
  {
   "cell_type": "code",
   "execution_count": 2,
   "metadata": {},
   "outputs": [],
   "source": [
    "train_comment_small_100=pd.read_csv('train_comment_small_100.csv')"
   ]
  },
  {
   "cell_type": "code",
   "execution_count": 3,
   "metadata": {},
   "outputs": [
    {
     "data": {
      "text/html": [
       "<div>\n",
       "<style scoped>\n",
       "    .dataframe tbody tr th:only-of-type {\n",
       "        vertical-align: middle;\n",
       "    }\n",
       "\n",
       "    .dataframe tbody tr th {\n",
       "        vertical-align: top;\n",
       "    }\n",
       "\n",
       "    .dataframe thead th {\n",
       "        text-align: right;\n",
       "    }\n",
       "</style>\n",
       "<table border=\"1\" class=\"dataframe\">\n",
       "  <thead>\n",
       "    <tr style=\"text-align: right;\">\n",
       "      <th></th>\n",
       "      <th>comment_text</th>\n",
       "      <th>toxic</th>\n",
       "    </tr>\n",
       "  </thead>\n",
       "  <tbody>\n",
       "    <tr>\n",
       "      <th>0</th>\n",
       "      <td>\"\\n \\n I'm sure if you worked on articles othe...</td>\n",
       "      <td>0</td>\n",
       "    </tr>\n",
       "    <tr>\n",
       "      <th>1</th>\n",
       "      <td>D'aww! He matches this background colour I'm s...</td>\n",
       "      <td>0</td>\n",
       "    </tr>\n",
       "    <tr>\n",
       "      <th>2</th>\n",
       "      <td>Hey man, I'm really not trying to edit war. It...</td>\n",
       "      <td>0</td>\n",
       "    </tr>\n",
       "    <tr>\n",
       "      <th>3</th>\n",
       "      <td>\"\\n More\\n I can't make any real suggestions o...</td>\n",
       "      <td>0</td>\n",
       "    </tr>\n",
       "    <tr>\n",
       "      <th>4</th>\n",
       "      <td>REDIRECT Talk:Voydan Pop Georgiev- Chernodrinski</td>\n",
       "      <td>0</td>\n",
       "    </tr>\n",
       "  </tbody>\n",
       "</table>\n",
       "</div>"
      ],
      "text/plain": [
       "                                        comment_text  toxic\n",
       "0  \"\\n \\n I'm sure if you worked on articles othe...      0\n",
       "1  D'aww! He matches this background colour I'm s...      0\n",
       "2  Hey man, I'm really not trying to edit war. It...      0\n",
       "3  \"\\n More\\n I can't make any real suggestions o...      0\n",
       "4   REDIRECT Talk:Voydan Pop Georgiev- Chernodrinski      0"
      ]
     },
     "execution_count": 3,
     "metadata": {},
     "output_type": "execute_result"
    }
   ],
   "source": [
    "train_comment_small_100.head()"
   ]
  },
  {
   "cell_type": "code",
   "execution_count": 4,
   "metadata": {},
   "outputs": [
    {
     "data": {
      "text/plain": [
       "(99, 2)"
      ]
     },
     "execution_count": 4,
     "metadata": {},
     "output_type": "execute_result"
    }
   ],
   "source": [
    "train_comment_small_100.shape"
   ]
  },
  {
   "cell_type": "markdown",
   "metadata": {},
   "source": [
    "#### Cleaning and preparing the data. Creating an array for your cleaned text to be stored in."
   ]
  },
  {
   "cell_type": "code",
   "execution_count": 5,
   "metadata": {},
   "outputs": [],
   "source": [
    "import re\n",
    "import nltk\n",
    "from nltk import re\n",
    "from nltk.corpus import stopwords\n",
    "from nltk.stem.porter import PorterStemmer"
   ]
  },
  {
   "cell_type": "code",
   "execution_count": 6,
   "metadata": {},
   "outputs": [],
   "source": [
    "cleaned_text=[]"
   ]
  },
  {
   "cell_type": "markdown",
   "metadata": {},
   "source": [
    "#### Data Cleaning: \n",
    "1. Replacing all non-alphabets with a whitespace.\n",
    "2. Converting all alphabets into lowercase.\n",
    "3. Spliting each review into individual words.\n",
    "3. Initiating the PorterStemmer. If the word is not a stopword, perform stemming on the word. Joining all the individual words back together to form a cleaned review. Append this cleaned review to the array you created."
   ]
  },
  {
   "cell_type": "code",
   "execution_count": 7,
   "metadata": {},
   "outputs": [],
   "source": [
    "for i in range(0,train_comment_small_100.shape[0]):\n",
    "    review=re.sub('[^a-zA-Z]',' ',train_comment_small_100['comment_text'][i])\n",
    "    review=review.lower()\n",
    "    review=review.split()\n",
    "    ps=PorterStemmer()\n",
    "    review=[ps.stem(word) for word in review if not word in set(stopwords.words('english'))]\n",
    "    review=''.join(review)\n",
    "    cleaned_text.append(review)"
   ]
  },
  {
   "cell_type": "code",
   "execution_count": 8,
   "metadata": {},
   "outputs": [
    {
     "data": {
      "text/plain": [
       "['sureworkarticlarcaynfinetwoseemproblemseekeditxenotalk',\n",
       " 'awwmatchbackgroundcolourseeminglistuckthanktalkjanuariutc',\n",
       " 'heymanreallitrieditwarguyconstantliremovrelevinformtalkeditinsteadtalkpageseemcareformatactualinfo']"
      ]
     },
     "execution_count": 8,
     "metadata": {},
     "output_type": "execute_result"
    }
   ],
   "source": [
    "cleaned_text[:3]"
   ]
  },
  {
   "cell_type": "code",
   "execution_count": 9,
   "metadata": {},
   "outputs": [
    {
     "data": {
      "text/plain": [
       "99"
      ]
     },
     "execution_count": 9,
     "metadata": {},
     "output_type": "execute_result"
    }
   ],
   "source": [
    "len(cleaned_text)"
   ]
  },
  {
   "cell_type": "markdown",
   "metadata": {},
   "source": [
    "#### Converting the reviews into word count vectors using CountVectorizer. Creating an array to store each unique word as its own column, hence making them independent variables"
   ]
  },
  {
   "cell_type": "code",
   "execution_count": 10,
   "metadata": {},
   "outputs": [],
   "source": [
    "from sklearn.feature_extraction.text import CountVectorizer"
   ]
  },
  {
   "cell_type": "code",
   "execution_count": 11,
   "metadata": {},
   "outputs": [],
   "source": [
    "cv = CountVectorizer(max_features = 20)"
   ]
  },
  {
   "cell_type": "code",
   "execution_count": 12,
   "metadata": {},
   "outputs": [],
   "source": [
    "X = cv.fit_transform(cleaned_text).toarray()"
   ]
  },
  {
   "cell_type": "code",
   "execution_count": 13,
   "metadata": {},
   "outputs": [
    {
     "data": {
      "text/plain": [
       "array([[0, 0, 0, ..., 0, 0, 0],\n",
       "       [0, 0, 0, ..., 0, 0, 0],\n",
       "       [0, 0, 0, ..., 0, 0, 0],\n",
       "       ...,\n",
       "       [0, 0, 0, ..., 0, 0, 0],\n",
       "       [0, 0, 0, ..., 0, 0, 0],\n",
       "       [0, 0, 0, ..., 0, 0, 0]], dtype=int64)"
      ]
     },
     "execution_count": 13,
     "metadata": {},
     "output_type": "execute_result"
    }
   ],
   "source": [
    "X"
   ]
  },
  {
   "cell_type": "markdown",
   "metadata": {},
   "source": [
    "#### Importing LabelEncoder from sklearn.preprocessing. Using the LabelEncoder on the target output (y)."
   ]
  },
  {
   "cell_type": "code",
   "execution_count": 14,
   "metadata": {},
   "outputs": [],
   "source": [
    "from sklearn import preprocessing"
   ]
  },
  {
   "cell_type": "code",
   "execution_count": 15,
   "metadata": {},
   "outputs": [],
   "source": [
    "y=train_comment_small_100['toxic']"
   ]
  },
  {
   "cell_type": "code",
   "execution_count": 16,
   "metadata": {},
   "outputs": [],
   "source": [
    "labelencoder_y = preprocessing.LabelEncoder()\n",
    "y = labelencoder_y.fit_transform(y)"
   ]
  },
  {
   "cell_type": "code",
   "execution_count": 17,
   "metadata": {},
   "outputs": [
    {
     "data": {
      "text/plain": [
       "array([0, 0, 0, 0, 0, 0, 0, 0, 0, 0, 0, 0, 1, 0, 0, 0, 0, 0, 0, 1, 0, 1,\n",
       "       0, 0, 0, 0, 0, 1, 0, 0, 0, 0, 0, 0, 0, 0, 0, 0, 0, 0, 0, 0, 1, 0,\n",
       "       0, 0, 0, 0, 0, 0, 1, 0, 0, 0, 0, 0, 0, 0, 0, 0, 0, 0, 0, 0, 0, 0,\n",
       "       1, 0, 0, 0, 0, 0, 1, 0, 0, 0, 0, 0, 0, 0, 1, 0, 0, 0, 0, 1, 0, 0,\n",
       "       0, 0, 0, 0, 0, 0, 0, 0, 0, 0, 0], dtype=int64)"
      ]
     },
     "execution_count": 17,
     "metadata": {},
     "output_type": "execute_result"
    }
   ],
   "source": [
    "y"
   ]
  },
  {
   "cell_type": "markdown",
   "metadata": {},
   "source": [
    "#### Importing train_test_split. Dividing the dataset into a training set and a validation set (80/20)."
   ]
  },
  {
   "cell_type": "code",
   "execution_count": 18,
   "metadata": {},
   "outputs": [],
   "source": [
    "from sklearn.model_selection import train_test_split"
   ]
  },
  {
   "cell_type": "code",
   "execution_count": 19,
   "metadata": {},
   "outputs": [],
   "source": [
    "X_train, X_test, y_train, y_test = train_test_split(X, y, test_size = 0.20, random_state = 10)"
   ]
  },
  {
   "cell_type": "markdown",
   "metadata": {},
   "source": [
    "#### Importing StandardScaler from sklearn.preprocessing. Using the StandardScaler on the features of both the training set and the validation set (X)"
   ]
  },
  {
   "cell_type": "code",
   "execution_count": 20,
   "metadata": {},
   "outputs": [],
   "source": [
    "from sklearn.preprocessing import StandardScaler"
   ]
  },
  {
   "cell_type": "code",
   "execution_count": 21,
   "metadata": {},
   "outputs": [],
   "source": [
    "sc = StandardScaler()"
   ]
  },
  {
   "cell_type": "code",
   "execution_count": 22,
   "metadata": {},
   "outputs": [],
   "source": [
    "X_train = sc.fit_transform(X_train)\n",
    "X_test = sc.transform(X_test)"
   ]
  },
  {
   "cell_type": "markdown",
   "metadata": {},
   "source": [
    "#### Creating the neural network and import Sequential from keras.models and Dense from Keras layers."
   ]
  },
  {
   "cell_type": "code",
   "execution_count": 23,
   "metadata": {},
   "outputs": [
    {
     "name": "stderr",
     "output_type": "stream",
     "text": [
      "Using TensorFlow backend.\n"
     ]
    }
   ],
   "source": [
    "import tensorflow\n",
    "import keras\n",
    "from keras.models import Sequential\n",
    "from keras.layers import Dense"
   ]
  },
  {
   "cell_type": "markdown",
   "metadata": {},
   "source": [
    "#### Initializing the neural network. Adding the hidden layers with 'relu' as the activation function and the output layer with 'softmax' as the activation function. Compiling the neural network, using 'adam' as the optimizer, 'binary_crossentropy' as the loss function and 'accuracy' as the performance metric."
   ]
  },
  {
   "cell_type": "code",
   "execution_count": 24,
   "metadata": {},
   "outputs": [],
   "source": [
    "classifier = Sequential()"
   ]
  },
  {
   "cell_type": "code",
   "execution_count": 25,
   "metadata": {},
   "outputs": [
    {
     "name": "stderr",
     "output_type": "stream",
     "text": [
      "D:\\Python\\lib\\site-packages\\ipykernel_launcher.py:1: UserWarning: Update your `Dense` call to the Keras 2 API: `Dense(activation=\"relu\", input_dim=20, units=20, kernel_initializer=\"uniform\")`\n",
      "  \"\"\"Entry point for launching an IPython kernel.\n",
      "D:\\Python\\lib\\site-packages\\ipykernel_launcher.py:2: UserWarning: Update your `Dense` call to the Keras 2 API: `Dense(activation=\"relu\", units=20, kernel_initializer=\"uniform\")`\n",
      "  \n",
      "D:\\Python\\lib\\site-packages\\ipykernel_launcher.py:3: UserWarning: Update your `Dense` call to the Keras 2 API: `Dense(activation=\"softmax\", units=1, kernel_initializer=\"uniform\")`\n",
      "  This is separate from the ipykernel package so we can avoid doing imports until\n"
     ]
    }
   ],
   "source": [
    "classifier.add(Dense(output_dim = 20, init = 'uniform', activation = 'relu', input_dim = 20))\n",
    "classifier.add(Dense(output_dim =20, init = 'uniform', activation = 'relu'))\n",
    "classifier.add(Dense(output_dim = 1, init = 'uniform', activation = 'softmax'))\n",
    "classifier.compile(optimizer = 'adam', loss = 'binary_crossentropy', metrics = ['accuracy'])"
   ]
  },
  {
   "cell_type": "code",
   "execution_count": 26,
   "metadata": {},
   "outputs": [
    {
     "data": {
      "text/plain": [
       "<bound method Network.summary of <keras.engine.sequential.Sequential object at 0x000001AC73C878D0>>"
      ]
     },
     "execution_count": 26,
     "metadata": {},
     "output_type": "execute_result"
    }
   ],
   "source": [
    "classifier.summary"
   ]
  },
  {
   "cell_type": "markdown",
   "metadata": {},
   "source": [
    "#### Training the model. Fit the neural network on the training dataset with a batch_size of 3 and a nb_epoch of 200."
   ]
  },
  {
   "cell_type": "code",
   "execution_count": 27,
   "metadata": {},
   "outputs": [
    {
     "name": "stderr",
     "output_type": "stream",
     "text": [
      "D:\\Python\\lib\\site-packages\\ipykernel_launcher.py:1: UserWarning: The `nb_epoch` argument in `fit` has been renamed `epochs`.\n",
      "  \"\"\"Entry point for launching an IPython kernel.\n"
     ]
    },
    {
     "name": "stdout",
     "output_type": "stream",
     "text": [
      "WARNING:tensorflow:From D:\\Python\\lib\\site-packages\\tensorflow\\python\\ops\\math_grad.py:1250: add_dispatch_support.<locals>.wrapper (from tensorflow.python.ops.array_ops) is deprecated and will be removed in a future version.\n",
      "Instructions for updating:\n",
      "Use tf.where in 2.0, which has the same broadcast rule as np.where\n",
      "WARNING:tensorflow:From D:\\Python\\lib\\site-packages\\keras\\backend\\tensorflow_backend.py:422: The name tf.global_variables is deprecated. Please use tf.compat.v1.global_variables instead.\n",
      "\n",
      "Epoch 1/200\n",
      "79/79 [==============================] - 1s 16ms/step - loss: 13.9746 - accuracy: 0.0886\n",
      "Epoch 2/200\n",
      "79/79 [==============================] - 0s 480us/step - loss: 13.9746 - accuracy: 0.0886\n",
      "Epoch 3/200\n",
      "79/79 [==============================] - 0s 454us/step - loss: 13.9746 - accuracy: 0.0886\n",
      "Epoch 4/200\n",
      "79/79 [==============================] - 0s 442us/step - loss: 13.9746 - accuracy: 0.0886\n",
      "Epoch 5/200\n",
      "79/79 [==============================] - 0s 480us/step - loss: 13.9746 - accuracy: 0.0886\n",
      "Epoch 6/200\n",
      "79/79 [==============================] - 0s 318us/step - loss: 13.9746 - accuracy: 0.0886\n",
      "Epoch 7/200\n",
      "79/79 [==============================] - 0s 2ms/step - loss: 13.9746 - accuracy: 0.0886\n",
      "Epoch 8/200\n",
      "79/79 [==============================] - 0s 2ms/step - loss: 13.9746 - accuracy: 0.0886\n",
      "Epoch 9/200\n",
      "79/79 [==============================] - 0s 1ms/step - loss: 13.9746 - accuracy: 0.0886\n",
      "Epoch 10/200\n",
      "79/79 [==============================] - 0s 1ms/step - loss: 13.9746 - accuracy: 0.0886\n",
      "Epoch 11/200\n",
      "79/79 [==============================] - 0s 2ms/step - loss: 13.9746 - accuracy: 0.0886\n",
      "Epoch 12/200\n",
      "79/79 [==============================] - 0s 2ms/step - loss: 13.9746 - accuracy: 0.0886\n",
      "Epoch 13/200\n",
      "79/79 [==============================] - 0s 1ms/step - loss: 13.9746 - accuracy: 0.0886\n",
      "Epoch 14/200\n",
      "79/79 [==============================] - 0s 985us/step - loss: 13.9746 - accuracy: 0.0886\n",
      "Epoch 15/200\n",
      "79/79 [==============================] - 0s 1ms/step - loss: 13.9746 - accuracy: 0.0886\n",
      "Epoch 16/200\n",
      "79/79 [==============================] - 0s 922us/step - loss: 13.9746 - accuracy: 0.0886\n",
      "Epoch 17/200\n",
      "79/79 [==============================] - 0s 921us/step - loss: 13.9746 - accuracy: 0.0886\n",
      "Epoch 18/200\n",
      "79/79 [==============================] - 0s 959us/step - loss: 13.9746 - accuracy: 0.0886\n",
      "Epoch 19/200\n",
      "79/79 [==============================] - 0s 947us/step - loss: 13.9746 - accuracy: 0.0886\n",
      "Epoch 20/200\n",
      "79/79 [==============================] - 0s 682us/step - loss: 13.9746 - accuracy: 0.0886\n",
      "Epoch 21/200\n",
      "79/79 [==============================] - 0s 985us/step - loss: 13.9746 - accuracy: 0.0886\n",
      "Epoch 22/200\n",
      "79/79 [==============================] - 0s 1ms/step - loss: 13.9746 - accuracy: 0.0886\n",
      "Epoch 23/200\n",
      "79/79 [==============================] - 0s 1ms/step - loss: 13.9746 - accuracy: 0.0886\n",
      "Epoch 24/200\n",
      "79/79 [==============================] - 0s 2ms/step - loss: 13.9746 - accuracy: 0.0886\n",
      "Epoch 25/200\n",
      "79/79 [==============================] - 0s 1ms/step - loss: 13.9746 - accuracy: 0.0886\n",
      "Epoch 26/200\n",
      "79/79 [==============================] - 0s 3ms/step - loss: 13.9746 - accuracy: 0.0886\n",
      "Epoch 27/200\n",
      "79/79 [==============================] - 0s 1ms/step - loss: 13.9746 - accuracy: 0.0886\n",
      "Epoch 28/200\n",
      "79/79 [==============================] - 0s 1ms/step - loss: 13.9746 - accuracy: 0.0886\n",
      "Epoch 29/200\n",
      "79/79 [==============================] - 0s 770us/step - loss: 13.9746 - accuracy: 0.0886\n",
      "Epoch 30/200\n",
      "79/79 [==============================] - 0s 884us/step - loss: 13.9746 - accuracy: 0.0886\n",
      "Epoch 31/200\n",
      "79/79 [==============================] - 0s 997us/step - loss: 13.9746 - accuracy: 0.0886\n",
      "Epoch 32/200\n",
      "79/79 [==============================] - 0s 922us/step - loss: 13.9746 - accuracy: 0.0886\n",
      "Epoch 33/200\n",
      "79/79 [==============================] - 0s 1ms/step - loss: 13.9746 - accuracy: 0.0886\n",
      "Epoch 34/200\n",
      "79/79 [==============================] - 0s 1ms/step - loss: 13.9746 - accuracy: 0.0886\n",
      "Epoch 35/200\n",
      "79/79 [==============================] - 0s 1ms/step - loss: 13.9746 - accuracy: 0.0886\n",
      "Epoch 36/200\n",
      "79/79 [==============================] - 0s 821us/step - loss: 13.9746 - accuracy: 0.0886\n",
      "Epoch 37/200\n",
      "79/79 [==============================] - 0s 1ms/step - loss: 13.9746 - accuracy: 0.0886\n",
      "Epoch 38/200\n",
      "79/79 [==============================] - 0s 1ms/step - loss: 13.9746 - accuracy: 0.0886\n",
      "Epoch 39/200\n",
      "79/79 [==============================] - 0s 1ms/step - loss: 13.9746 - accuracy: 0.0886\n",
      "Epoch 40/200\n",
      "79/79 [==============================] - 0s 833us/step - loss: 13.9746 - accuracy: 0.0886\n",
      "Epoch 41/200\n",
      "79/79 [==============================] - 0s 795us/step - loss: 13.9746 - accuracy: 0.0886\n",
      "Epoch 42/200\n",
      "79/79 [==============================] - 0s 1ms/step - loss: 13.9746 - accuracy: 0.0886\n",
      "Epoch 43/200\n",
      "79/79 [==============================] - 0s 1ms/step - loss: 13.9746 - accuracy: 0.0886\n",
      "Epoch 44/200\n",
      "79/79 [==============================] - 0s 1ms/step - loss: 13.9746 - accuracy: 0.0886\n",
      "Epoch 45/200\n",
      "79/79 [==============================] - 0s 1ms/step - loss: 13.9746 - accuracy: 0.0886\n",
      "Epoch 46/200\n",
      "79/79 [==============================] - 0s 821us/step - loss: 13.9746 - accuracy: 0.0886\n",
      "Epoch 47/200\n",
      "79/79 [==============================] - 0s 2ms/step - loss: 13.9746 - accuracy: 0.0886\n",
      "Epoch 48/200\n",
      "79/79 [==============================] - 0s 1ms/step - loss: 13.9746 - accuracy: 0.0886\n",
      "Epoch 49/200\n",
      "79/79 [==============================] - 0s 669us/step - loss: 13.9746 - accuracy: 0.0886\n",
      "Epoch 50/200\n",
      "79/79 [==============================] - 0s 947us/step - loss: 13.9746 - accuracy: 0.0886\n",
      "Epoch 51/200\n",
      "79/79 [==============================] - 0s 2ms/step - loss: 13.9746 - accuracy: 0.0886\n",
      "Epoch 52/200\n",
      "79/79 [==============================] - 0s 1ms/step - loss: 13.9746 - accuracy: 0.0886\n",
      "Epoch 53/200\n",
      "79/79 [==============================] - 0s 1ms/step - loss: 13.9746 - accuracy: 0.0886\n",
      "Epoch 54/200\n",
      "79/79 [==============================] - 0s 1ms/step - loss: 13.9746 - accuracy: 0.0886\n",
      "Epoch 55/200\n",
      "79/79 [==============================] - 0s 1ms/step - loss: 13.9746 - accuracy: 0.0886\n",
      "Epoch 56/200\n",
      "79/79 [==============================] - 0s 757us/step - loss: 13.9746 - accuracy: 0.0886\n",
      "Epoch 57/200\n",
      "79/79 [==============================] - 0s 808us/step - loss: 13.9746 - accuracy: 0.0886\n",
      "Epoch 58/200\n",
      "79/79 [==============================] - 0s 1ms/step - loss: 13.9746 - accuracy: 0.0886\n",
      "Epoch 59/200\n",
      "79/79 [==============================] - 0s 2ms/step - loss: 13.9746 - accuracy: 0.0886\n",
      "Epoch 60/200\n",
      "79/79 [==============================] - 0s 1ms/step - loss: 13.9746 - accuracy: 0.0886\n",
      "Epoch 61/200\n",
      "79/79 [==============================] - 0s 846us/step - loss: 13.9746 - accuracy: 0.0886\n",
      "Epoch 62/200\n",
      "79/79 [==============================] - 0s 606us/step - loss: 13.9746 - accuracy: 0.0886\n",
      "Epoch 63/200\n",
      "79/79 [==============================] - 0s 593us/step - loss: 13.9746 - accuracy: 0.0886\n",
      "Epoch 64/200\n",
      "79/79 [==============================] - 0s 656us/step - loss: 13.9746 - accuracy: 0.0886\n",
      "Epoch 65/200\n",
      "79/79 [==============================] - 0s 656us/step - loss: 13.9746 - accuracy: 0.0886\n",
      "Epoch 66/200\n",
      "79/79 [==============================] - 0s 795us/step - loss: 13.9746 - accuracy: 0.0886\n",
      "Epoch 67/200\n",
      "79/79 [==============================] - 0s 846us/step - loss: 13.9746 - accuracy: 0.0886\n",
      "Epoch 68/200\n",
      "79/79 [==============================] - 0s 821us/step - loss: 13.9746 - accuracy: 0.0886\n",
      "Epoch 69/200\n",
      "79/79 [==============================] - 0s 934us/step - loss: 13.9746 - accuracy: 0.0886\n",
      "Epoch 70/200\n",
      "79/79 [==============================] - 0s 833us/step - loss: 13.9746 - accuracy: 0.0886\n",
      "Epoch 71/200\n",
      "79/79 [==============================] - 0s 884us/step - loss: 13.9746 - accuracy: 0.0886\n",
      "Epoch 72/200\n",
      "79/79 [==============================] - 0s 997us/step - loss: 13.9746 - accuracy: 0.0886\n",
      "Epoch 73/200\n",
      "79/79 [==============================] - 0s 1ms/step - loss: 13.9746 - accuracy: 0.0886\n",
      "Epoch 74/200\n",
      "79/79 [==============================] - 0s 1ms/step - loss: 13.9746 - accuracy: 0.0886\n",
      "Epoch 75/200\n",
      "79/79 [==============================] - 0s 606us/step - loss: 13.9746 - accuracy: 0.0886\n",
      "Epoch 76/200\n",
      "79/79 [==============================] - 0s 619us/step - loss: 13.9746 - accuracy: 0.0886\n",
      "Epoch 77/200\n",
      "79/79 [==============================] - 0s 997us/step - loss: 13.9746 - accuracy: 0.0886\n",
      "Epoch 78/200\n",
      "79/79 [==============================] - 0s 1ms/step - loss: 13.9746 - accuracy: 0.0886\n",
      "Epoch 79/200\n",
      "79/79 [==============================] - 0s 1ms/step - loss: 13.9746 - accuracy: 0.0886\n",
      "Epoch 80/200\n",
      "79/79 [==============================] - 0s 1ms/step - loss: 13.9746 - accuracy: 0.0886\n",
      "Epoch 81/200\n",
      "79/79 [==============================] - 0s 1ms/step - loss: 13.9746 - accuracy: 0.0886\n",
      "Epoch 82/200\n",
      "79/79 [==============================] - 0s 959us/step - loss: 13.9746 - accuracy: 0.0886\n",
      "Epoch 83/200\n",
      "79/79 [==============================] - 0s 1ms/step - loss: 13.9746 - accuracy: 0.0886\n",
      "Epoch 84/200\n",
      "79/79 [==============================] - 0s 1ms/step - loss: 13.9746 - accuracy: 0.0886\n",
      "Epoch 85/200\n",
      "79/79 [==============================] - 0s 1ms/step - loss: 13.9746 - accuracy: 0.0886\n",
      "Epoch 86/200\n",
      "79/79 [==============================] - 0s 896us/step - loss: 13.9746 - accuracy: 0.0886\n",
      "Epoch 87/200\n",
      "79/79 [==============================] - 0s 947us/step - loss: 13.9746 - accuracy: 0.0886\n",
      "Epoch 88/200\n",
      "79/79 [==============================] - 0s 669us/step - loss: 13.9746 - accuracy: 0.0886\n",
      "Epoch 89/200\n",
      "79/79 [==============================] - 0s 694us/step - loss: 13.9746 - accuracy: 0.0886\n",
      "Epoch 90/200\n",
      "79/79 [==============================] - 0s 745us/step - loss: 13.9746 - accuracy: 0.0886\n",
      "Epoch 91/200\n",
      "79/79 [==============================] - 0s 669us/step - loss: 13.9746 - accuracy: 0.0886\n",
      "Epoch 92/200\n",
      "79/79 [==============================] - 0s 2ms/step - loss: 13.9746 - accuracy: 0.0886\n",
      "Epoch 93/200\n",
      "79/79 [==============================] - 0s 1ms/step - loss: 13.9746 - accuracy: 0.0886\n",
      "Epoch 94/200\n",
      "79/79 [==============================] - 0s 1ms/step - loss: 13.9746 - accuracy: 0.0886\n",
      "Epoch 95/200\n",
      "79/79 [==============================] - 0s 1ms/step - loss: 13.9746 - accuracy: 0.0886\n",
      "Epoch 96/200\n",
      "79/79 [==============================] - 0s 1ms/step - loss: 13.9746 - accuracy: 0.0886\n",
      "Epoch 97/200\n",
      "79/79 [==============================] - 0s 997us/step - loss: 13.9746 - accuracy: 0.0886\n",
      "Epoch 98/200\n",
      "79/79 [==============================] - 0s 808us/step - loss: 13.9746 - accuracy: 0.0886\n",
      "Epoch 99/200\n",
      "79/79 [==============================] - 0s 833us/step - loss: 13.9746 - accuracy: 0.0886\n",
      "Epoch 100/200\n",
      "79/79 [==============================] - 0s 821us/step - loss: 13.9746 - accuracy: 0.0886\n",
      "Epoch 101/200\n",
      "79/79 [==============================] - 0s 1ms/step - loss: 13.9746 - accuracy: 0.0886\n",
      "Epoch 102/200\n",
      "79/79 [==============================] - 0s 1ms/step - loss: 13.9746 - accuracy: 0.0886\n",
      "Epoch 103/200\n",
      "79/79 [==============================] - 0s 1ms/step - loss: 13.9746 - accuracy: 0.0886\n",
      "Epoch 104/200\n",
      "79/79 [==============================] - 0s 1ms/step - loss: 13.9746 - accuracy: 0.0886\n",
      "Epoch 105/200\n",
      "79/79 [==============================] - 0s 2ms/step - loss: 13.9746 - accuracy: 0.0886\n",
      "Epoch 106/200\n",
      "79/79 [==============================] - 0s 1ms/step - loss: 13.9746 - accuracy: 0.0886\n",
      "Epoch 107/200\n",
      "79/79 [==============================] - 0s 1ms/step - loss: 13.9746 - accuracy: 0.0886\n",
      "Epoch 108/200\n",
      "79/79 [==============================] - 0s 1ms/step - loss: 13.9746 - accuracy: 0.0886\n",
      "Epoch 109/200\n",
      "79/79 [==============================] - 0s 1ms/step - loss: 13.9746 - accuracy: 0.0886\n",
      "Epoch 110/200\n",
      "79/79 [==============================] - 0s 896us/step - loss: 13.9746 - accuracy: 0.0886\n",
      "Epoch 111/200\n",
      "79/79 [==============================] - 0s 871us/step - loss: 13.9746 - accuracy: 0.0886\n",
      "Epoch 112/200\n",
      "79/79 [==============================] - 0s 859us/step - loss: 13.9746 - accuracy: 0.0886\n",
      "Epoch 113/200\n",
      "79/79 [==============================] - 0s 934us/step - loss: 13.9746 - accuracy: 0.0886\n",
      "Epoch 114/200\n",
      "79/79 [==============================] - 0s 833us/step - loss: 13.9746 - accuracy: 0.0886\n",
      "Epoch 115/200\n",
      "79/79 [==============================] - 0s 833us/step - loss: 13.9746 - accuracy: 0.0886\n",
      "Epoch 116/200\n",
      "79/79 [==============================] - 0s 846us/step - loss: 13.9746 - accuracy: 0.0886\n",
      "Epoch 117/200\n",
      "79/79 [==============================] - 0s 871us/step - loss: 13.9746 - accuracy: 0.0886\n",
      "Epoch 118/200\n",
      "79/79 [==============================] - 0s 947us/step - loss: 13.9746 - accuracy: 0.0886\n",
      "Epoch 119/200\n",
      "79/79 [==============================] - 0s 896us/step - loss: 13.9746 - accuracy: 0.0886\n",
      "Epoch 120/200\n",
      "79/79 [==============================] - 0s 808us/step - loss: 13.9746 - accuracy: 0.0886\n",
      "Epoch 121/200\n",
      "79/79 [==============================] - 0s 934us/step - loss: 13.9746 - accuracy: 0.0886\n",
      "Epoch 122/200\n",
      "79/79 [==============================] - 0s 896us/step - loss: 13.9746 - accuracy: 0.0886\n",
      "Epoch 123/200\n",
      "79/79 [==============================] - 0s 1ms/step - loss: 13.9746 - accuracy: 0.0886\n",
      "Epoch 124/200\n",
      "79/79 [==============================] - 0s 909us/step - loss: 13.9746 - accuracy: 0.0886\n",
      "Epoch 125/200\n",
      "79/79 [==============================] - 0s 858us/step - loss: 13.9746 - accuracy: 0.0886\n",
      "Epoch 126/200\n",
      "79/79 [==============================] - 0s 871us/step - loss: 13.9746 - accuracy: 0.0886\n",
      "Epoch 127/200\n",
      "79/79 [==============================] - 0s 808us/step - loss: 13.9746 - accuracy: 0.0886\n",
      "Epoch 128/200\n",
      "79/79 [==============================] - 0s 732us/step - loss: 13.9746 - accuracy: 0.0886\n",
      "Epoch 129/200\n",
      "79/79 [==============================] - 0s 659us/step - loss: 13.9746 - accuracy: 0.0886\n",
      "Epoch 130/200\n",
      "79/79 [==============================] - 0s 644us/step - loss: 13.9746 - accuracy: 0.0886\n",
      "Epoch 131/200\n",
      "79/79 [==============================] - 0s 816us/step - loss: 13.9746 - accuracy: 0.0886\n",
      "Epoch 132/200\n",
      "79/79 [==============================] - 0s 997us/step - loss: 13.9746 - accuracy: 0.0886\n",
      "Epoch 133/200\n",
      "79/79 [==============================] - 0s 934us/step - loss: 13.9746 - accuracy: 0.0886\n",
      "Epoch 134/200\n",
      "79/79 [==============================] - 0s 795us/step - loss: 13.9746 - accuracy: 0.0886\n",
      "Epoch 135/200\n",
      "79/79 [==============================] - 0s 745us/step - loss: 13.9746 - accuracy: 0.0886\n",
      "Epoch 136/200\n",
      "79/79 [==============================] - 0s 783us/step - loss: 13.9746 - accuracy: 0.0886\n",
      "Epoch 137/200\n",
      "79/79 [==============================] - 0s 947us/step - loss: 13.9746 - accuracy: 0.0886\n",
      "Epoch 138/200\n",
      "79/79 [==============================] - 0s 1ms/step - loss: 13.9746 - accuracy: 0.0886\n",
      "Epoch 139/200\n",
      "79/79 [==============================] - 0s 707us/step - loss: 13.9746 - accuracy: 0.0886\n",
      "Epoch 140/200\n",
      "79/79 [==============================] - 0s 707us/step - loss: 13.9746 - accuracy: 0.0886\n",
      "Epoch 141/200\n",
      "79/79 [==============================] - 0s 593us/step - loss: 13.9746 - accuracy: 0.0886\n",
      "Epoch 142/200\n",
      "79/79 [==============================] - 0s 593us/step - loss: 13.9746 - accuracy: 0.0886\n",
      "Epoch 143/200\n",
      "79/79 [==============================] - 0s 757us/step - loss: 13.9746 - accuracy: 0.0886\n",
      "Epoch 144/200\n",
      "79/79 [==============================] - 0s 745us/step - loss: 13.9746 - accuracy: 0.0886\n",
      "Epoch 145/200\n",
      "79/79 [==============================] - 0s 1ms/step - loss: 13.9746 - accuracy: 0.0886\n",
      "Epoch 146/200\n",
      "79/79 [==============================] - 0s 720us/step - loss: 13.9746 - accuracy: 0.0886\n",
      "Epoch 147/200\n",
      "79/79 [==============================] - 0s 934us/step - loss: 13.9746 - accuracy: 0.0886\n",
      "Epoch 148/200\n",
      "79/79 [==============================] - 0s 846us/step - loss: 13.9746 - accuracy: 0.0886\n",
      "Epoch 149/200\n",
      "79/79 [==============================] - 0s 833us/step - loss: 13.9746 - accuracy: 0.0886\n",
      "Epoch 150/200\n",
      "79/79 [==============================] - 0s 720us/step - loss: 13.9746 - accuracy: 0.0886\n",
      "Epoch 151/200\n",
      "79/79 [==============================] - 0s 745us/step - loss: 13.9746 - accuracy: 0.0886\n",
      "Epoch 152/200\n",
      "79/79 [==============================] - 0s 846us/step - loss: 13.9746 - accuracy: 0.0886\n",
      "Epoch 153/200\n",
      "79/79 [==============================] - 0s 896us/step - loss: 13.9746 - accuracy: 0.0886\n",
      "Epoch 154/200\n",
      "79/79 [==============================] - 0s 808us/step - loss: 13.9746 - accuracy: 0.0886\n",
      "Epoch 155/200\n"
     ]
    },
    {
     "name": "stdout",
     "output_type": "stream",
     "text": [
      "79/79 [==============================] - 0s 783us/step - loss: 13.9746 - accuracy: 0.0886\n",
      "Epoch 156/200\n",
      "79/79 [==============================] - 0s 770us/step - loss: 13.9746 - accuracy: 0.0886\n",
      "Epoch 157/200\n",
      "79/79 [==============================] - 0s 619us/step - loss: 13.9746 - accuracy: 0.0886\n",
      "Epoch 158/200\n",
      "79/79 [==============================] - 0s 619us/step - loss: 13.9746 - accuracy: 0.0886\n",
      "Epoch 159/200\n",
      "79/79 [==============================] - 0s 669us/step - loss: 13.9746 - accuracy: 0.0886\n",
      "Epoch 160/200\n",
      "79/79 [==============================] - 0s 706us/step - loss: 13.9746 - accuracy: 0.0886\n",
      "Epoch 161/200\n",
      "79/79 [==============================] - 0s 766us/step - loss: 13.9746 - accuracy: 0.0886\n",
      "Epoch 162/200\n",
      "79/79 [==============================] - 0s 757us/step - loss: 13.9746 - accuracy: 0.0886\n",
      "Epoch 163/200\n",
      "79/79 [==============================] - 0s 997us/step - loss: 13.9746 - accuracy: 0.0886\n",
      "Epoch 164/200\n",
      "79/79 [==============================] - 0s 808us/step - loss: 13.9746 - accuracy: 0.0886\n",
      "Epoch 165/200\n",
      "79/79 [==============================] - 0s 770us/step - loss: 13.9746 - accuracy: 0.0886\n",
      "Epoch 166/200\n",
      "79/79 [==============================] - 0s 631us/step - loss: 13.9746 - accuracy: 0.0886\n",
      "Epoch 167/200\n",
      "79/79 [==============================] - 0s 682us/step - loss: 13.9746 - accuracy: 0.0886\n",
      "Epoch 168/200\n",
      "79/79 [==============================] - 0s 694us/step - loss: 13.9746 - accuracy: 0.0886\n",
      "Epoch 169/200\n",
      "79/79 [==============================] - 0s 795us/step - loss: 13.9746 - accuracy: 0.0886\n",
      "Epoch 170/200\n",
      "79/79 [==============================] - 0s 732us/step - loss: 13.9746 - accuracy: 0.0886\n",
      "Epoch 171/200\n",
      "79/79 [==============================] - 0s 757us/step - loss: 13.9746 - accuracy: 0.0886\n",
      "Epoch 172/200\n",
      "79/79 [==============================] - 0s 732us/step - loss: 13.9746 - accuracy: 0.0886\n",
      "Epoch 173/200\n",
      "79/79 [==============================] - 0s 745us/step - loss: 13.9746 - accuracy: 0.0886\n",
      "Epoch 174/200\n",
      "79/79 [==============================] - 0s 669us/step - loss: 13.9746 - accuracy: 0.0886\n",
      "Epoch 175/200\n",
      "79/79 [==============================] - 0s 822us/step - loss: 13.9746 - accuracy: 0.0886\n",
      "Epoch 176/200\n",
      "79/79 [==============================] - 0s 852us/step - loss: 13.9746 - accuracy: 0.0886\n",
      "Epoch 177/200\n",
      "79/79 [==============================] - 0s 1ms/step - loss: 13.9746 - accuracy: 0.0886\n",
      "Epoch 178/200\n",
      "79/79 [==============================] - 0s 997us/step - loss: 13.9746 - accuracy: 0.0886\n",
      "Epoch 179/200\n",
      "79/79 [==============================] - 0s 858us/step - loss: 13.9746 - accuracy: 0.0886\n",
      "Epoch 180/200\n",
      "79/79 [==============================] - 0s 1ms/step - loss: 13.9746 - accuracy: 0.0886\n",
      "Epoch 181/200\n",
      "79/79 [==============================] - 0s 1ms/step - loss: 13.9746 - accuracy: 0.0886\n",
      "Epoch 182/200\n",
      "79/79 [==============================] - 0s 858us/step - loss: 13.9746 - accuracy: 0.0886\n",
      "Epoch 183/200\n",
      "79/79 [==============================] - 0s 972us/step - loss: 13.9746 - accuracy: 0.0886\n",
      "Epoch 184/200\n",
      "79/79 [==============================] - 0s 921us/step - loss: 13.9746 - accuracy: 0.0886\n",
      "Epoch 185/200\n",
      "79/79 [==============================] - 0s 884us/step - loss: 13.9746 - accuracy: 0.0886\n",
      "Epoch 186/200\n",
      "79/79 [==============================] - 0s 959us/step - loss: 13.9746 - accuracy: 0.0886\n",
      "Epoch 187/200\n",
      "79/79 [==============================] - 0s 871us/step - loss: 13.9746 - accuracy: 0.0886\n",
      "Epoch 188/200\n",
      "79/79 [==============================] - 0s 871us/step - loss: 13.9746 - accuracy: 0.0886\n",
      "Epoch 189/200\n",
      "79/79 [==============================] - 0s 1ms/step - loss: 13.9746 - accuracy: 0.0886\n",
      "Epoch 190/200\n",
      "79/79 [==============================] - 0s 884us/step - loss: 13.9746 - accuracy: 0.0886\n",
      "Epoch 191/200\n",
      "79/79 [==============================] - 0s 985us/step - loss: 13.9746 - accuracy: 0.0886\n",
      "Epoch 192/200\n",
      "79/79 [==============================] - 0s 972us/step - loss: 13.9746 - accuracy: 0.0886\n",
      "Epoch 193/200\n",
      "79/79 [==============================] - 0s 884us/step - loss: 13.9746 - accuracy: 0.0886\n",
      "Epoch 194/200\n",
      "79/79 [==============================] - 0s 1ms/step - loss: 13.9746 - accuracy: 0.0886\n",
      "Epoch 195/200\n",
      "79/79 [==============================] - 0s 858us/step - loss: 13.9746 - accuracy: 0.0886\n",
      "Epoch 196/200\n",
      "79/79 [==============================] - 0s 1ms/step - loss: 13.9746 - accuracy: 0.0886\n",
      "Epoch 197/200\n",
      "79/79 [==============================] - 0s 795us/step - loss: 13.9746 - accuracy: 0.0886\n",
      "Epoch 198/200\n",
      "79/79 [==============================] - 0s 897us/step - loss: 13.9746 - accuracy: 0.0886\n",
      "Epoch 199/200\n",
      "79/79 [==============================] - 0s 858us/step - loss: 13.9746 - accuracy: 0.0886\n",
      "Epoch 200/200\n",
      "79/79 [==============================] - 0s 1ms/step - loss: 13.9746 - accuracy: 0.0886\n"
     ]
    },
    {
     "data": {
      "text/plain": [
       "<keras.callbacks.callbacks.History at 0x1ac6a4913c8>"
      ]
     },
     "execution_count": 27,
     "metadata": {},
     "output_type": "execute_result"
    }
   ],
   "source": [
    "classifier.fit(X_train, y_train, batch_size = 3, nb_epoch = 200)"
   ]
  },
  {
   "cell_type": "code",
   "execution_count": 28,
   "metadata": {
    "scrolled": true
   },
   "outputs": [
    {
     "data": {
      "text/plain": [
       "array([-0.1132277, -0.1132277, -0.1132277, -0.1132277, -0.1132277,\n",
       "       -0.1132277, -0.1132277, -0.1132277, -0.1132277, -0.1132277,\n",
       "       -0.1132277, -0.1132277, -0.1132277, -0.1132277, -0.1132277,\n",
       "       -0.1132277, -0.1132277, -0.1132277, -0.1132277, -0.1132277])"
      ]
     },
     "execution_count": 28,
     "metadata": {},
     "output_type": "execute_result"
    }
   ],
   "source": [
    "X_test[:,5]"
   ]
  },
  {
   "cell_type": "markdown",
   "metadata": {},
   "source": [
    "#### Validating the model. Evaluating the neural network and print the accuracy scores to see how it performed. What is the conclusion?"
   ]
  },
  {
   "cell_type": "code",
   "execution_count": 29,
   "metadata": {},
   "outputs": [
    {
     "name": "stdout",
     "output_type": "stream",
     "text": [
      "79/79 [==============================] - 0s 3ms/step\n",
      "Training Accuracy: 8.86%\n",
      "\n",
      "20/20 [==============================] - 0s 50us/step\n",
      "Testing Accuracy: 15.00%\n",
      "\n"
     ]
    }
   ],
   "source": [
    "y_pred = classifier.predict(X_test)\n",
    "\n",
    "scores = classifier.evaluate(X_train, y_train)\n",
    "print('Training Accuracy: %.2f%%\\n' % (scores[1]*100))\n",
    "\n",
    "scores = classifier.evaluate(X_test, y_test)\n",
    "print('Testing Accuracy: %.2f%%\\n' % (scores[1]*100))"
   ]
  },
  {
   "cell_type": "code",
   "execution_count": 30,
   "metadata": {},
   "outputs": [
    {
     "name": "stdout",
     "output_type": "stream",
     "text": [
      "              precision    recall  f1-score   support\n",
      "\n",
      "           0       0.00      0.00      0.00        17\n",
      "           1       0.15      1.00      0.26         3\n",
      "\n",
      "    accuracy                           0.15        20\n",
      "   macro avg       0.07      0.50      0.13        20\n",
      "weighted avg       0.02      0.15      0.04        20\n",
      "\n"
     ]
    },
    {
     "name": "stderr",
     "output_type": "stream",
     "text": [
      "D:\\Python\\lib\\site-packages\\sklearn\\metrics\\classification.py:1437: UndefinedMetricWarning: Precision and F-score are ill-defined and being set to 0.0 in labels with no predicted samples.\n",
      "  'precision', 'predicted', average, warn_for)\n"
     ]
    }
   ],
   "source": [
    "from sklearn.metrics import classification_report\n",
    "\n",
    "print(classification_report(y_test, y_pred))"
   ]
  },
  {
   "cell_type": "markdown",
   "metadata": {},
   "source": [
    "The model is not efficient as the accuracy is not good. One of the reasons could be lack of good data for training the network."
   ]
  },
  {
   "cell_type": "markdown",
   "metadata": {},
   "source": [
    "#### Printing the confusion matrix by importing confusion_matrix from sklearn.metrics. What does the confusion matrix tell?"
   ]
  },
  {
   "cell_type": "code",
   "execution_count": 31,
   "metadata": {},
   "outputs": [],
   "source": [
    "from sklearn.metrics import confusion_matrix\n",
    "import seaborn as sns"
   ]
  },
  {
   "cell_type": "code",
   "execution_count": 32,
   "metadata": {},
   "outputs": [],
   "source": [
    "cm=confusion_matrix(y_test, y_pred)"
   ]
  },
  {
   "cell_type": "code",
   "execution_count": 33,
   "metadata": {
    "scrolled": false
   },
   "outputs": [
    {
     "data": {
      "text/plain": [
       "Text(0.5, 15.0, 'Prediction')"
      ]
     },
     "execution_count": 33,
     "metadata": {},
     "output_type": "execute_result"
    },
    {
     "data": {
      "image/png": "[encoded data removed]",
      "text/plain": [
       "<Figure size 432x288 with 1 Axes>"
      ]
     },
     "metadata": {
      "needs_background": "light"
     },
     "output_type": "display_data"
    }
   ],
   "source": [
    "ax = sns.heatmap(cm, annot=True, \n",
    "                 xticklabels=['False','True'],\n",
    "                 yticklabels=['False','True'], \n",
    "                 cbar=False, cmap='Blues')\n",
    "ax.set_xlabel('Prediction')"
   ]
  },
  {
   "cell_type": "markdown",
   "metadata": {},
   "source": [
    "A confusion matrix is a summary of prediction results on a classification problem. The number of correct and incorrect predictions are summarized with count values and broken down by each class.The confusion matrix shows the ways in which our classification model is confused when it makes predictions.\n",
    "<br><br>\n",
    "From the above confusion matrix we can see that our model's efficiency is very low. The False Negative rate is high which says, the model predicted the false values as true."
   ]
  },
  {
   "cell_type": "code",
   "execution_count": null,
   "metadata": {},
   "outputs": [],
   "source": []
  }
 ],
 "metadata": {
  "kernelspec": {
   "display_name": "Python 3",
   "language": "python",
   "name": "python3"
  },
  "language_info": {
   "codemirror_mode": {
    "name": "ipython",
    "version": 3
   },
   "file_extension": ".py",
   "mimetype": "text/x-python",
   "name": "python",
   "nbconvert_exporter": "python",
   "pygments_lexer": "ipython3",
   "version": "3.7.3"
  }
 },
 "nbformat": 4,
 "nbformat_minor": 2
}
